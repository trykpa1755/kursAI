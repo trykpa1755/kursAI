{
  "nbformat": 4,
  "nbformat_minor": 0,
  "metadata": {
    "colab": {
      "provenance": [],
      "toc_visible": true,
      "authorship_tag": "ABX9TyMgYyfRQCNkMJxEt0/uORki",
      "include_colab_link": true
    },
    "kernelspec": {
      "name": "python3",
      "display_name": "Python 3"
    },
    "language_info": {
      "name": "python"
    }
  },
  "cells": [
    {
      "cell_type": "markdown",
      "metadata": {
        "id": "view-in-github",
        "colab_type": "text"
      },
      "source": [
        "<a href=\"https://colab.research.google.com/github/trykpa1755/kursAI/blob/main/wprowadzenie.ipynb\" target=\"_parent\"><img src=\"https://colab.research.google.com/assets/colab-badge.svg\" alt=\"Open In Colab\"/></a>"
      ]
    },
    {
      "cell_type": "markdown",
      "source": [
        "# **Podstawowe elementy języka Python**\n",
        "*W tym rozdziale przedstawimy podstawowe elementy składni języka Python*\n",
        "\n",
        "[Dokumentacja Python](https://www.python.org/)\n",
        "\n",
        "# Omawiane elementy\n",
        "\n",
        "---\n",
        "\n",
        "1.   Zmienne\n",
        "\n",
        "---\n",
        "\n",
        "2.   Listy\n",
        "\n",
        "---\n",
        "\n",
        "3.   Pętle\n",
        "\n",
        "---\n",
        "\n",
        "4.   Słowniki i krotki\n",
        "\n",
        "---\n",
        "5.   Instrukcje warunkowe\n",
        "\n",
        "---\n",
        "6.   Funkcje\n",
        "\n",
        "---\n",
        "7.   Obsługa plików\n",
        "\n",
        "---\n",
        "8.   Obsługa wyjątków\n",
        "\n",
        "---\n",
        "\n"
      ],
      "metadata": {
        "id": "-hDdmSOeUZ7u"
      }
    },
    {
      "cell_type": "markdown",
      "source": [
        "### Obsługa git"
      ],
      "metadata": {
        "id": "J6kXfzxqmlY_"
      }
    },
    {
      "cell_type": "code",
      "source": [
        "!git init\n",
        "!git config --global user.name \"trykpa1755\"\n",
        "!git config --global user.email \"trykpa1755@wp.pl\""
      ],
      "metadata": {
        "colab": {
          "base_uri": "https://localhost:8080/"
        },
        "id": "n-WOOf1kZgf5",
        "outputId": "026c47ac-9e18-4068-bc8c-17c96738f9cb"
      },
      "execution_count": null,
      "outputs": [
        {
          "output_type": "stream",
          "name": "stdout",
          "text": [
            "Reinitialized existing Git repository in /content/.git/\n"
          ]
        }
      ]
    },
    {
      "cell_type": "code",
      "source": [
        "!git add ."
      ],
      "metadata": {
        "id": "ccXQ3B3baUlW"
      },
      "execution_count": 62,
      "outputs": []
    },
    {
      "cell_type": "code",
      "source": [
        "!git commit -m \"OStateczna wersja\""
      ],
      "metadata": {
        "colab": {
          "base_uri": "https://localhost:8080/"
        },
        "id": "1sEfBSJxac1i",
        "outputId": "86407f48-495c-4b69-adc3-dc4a49c52076"
      },
      "execution_count": 64,
      "outputs": [
        {
          "output_type": "stream",
          "name": "stdout",
          "text": [
            "On branch main\n",
            "Your branch is ahead of 'origin/main' by 1 commit.\n",
            "  (use \"git push\" to publish your local commits)\n",
            "\n",
            "nothing to commit, working tree clean\n"
          ]
        }
      ]
    },
    {
      "cell_type": "code",
      "source": [
        "!git branch -M main"
      ],
      "metadata": {
        "id": "oN2KyZA-amnP"
      },
      "execution_count": null,
      "outputs": []
    },
    {
      "cell_type": "code",
      "source": [
        "!git push -u origin main"
      ],
      "metadata": {
        "colab": {
          "base_uri": "https://localhost:8080/"
        },
        "id": "0mo0WCpBdhz0",
        "outputId": "952f3c79-c7f7-432a-a186-b1b6286b3472"
      },
      "execution_count": 67,
      "outputs": [
        {
          "output_type": "stream",
          "name": "stdout",
          "text": [
            "Enumerating objects: 5, done.\n",
            "Counting objects:  20% (1/5)\rCounting objects:  40% (2/5)\rCounting objects:  60% (3/5)\rCounting objects:  80% (4/5)\rCounting objects: 100% (5/5)\rCounting objects: 100% (5/5), done.\n",
            "Delta compression using up to 2 threads\n",
            "Compressing objects:  50% (1/2)\rCompressing objects: 100% (2/2)\rCompressing objects: 100% (2/2), done.\n",
            "Writing objects:  25% (1/4)\rWriting objects:  50% (2/4)\rWriting objects:  75% (3/4)\rWriting objects: 100% (4/4)\rWriting objects: 100% (4/4), 462 bytes | 462.00 KiB/s, done.\n",
            "Total 4 (delta 0), reused 0 (delta 0), pack-reused 0\n",
            "To https://github.com/trykpa1755/kursAI.git\n",
            "   dbe7650..22e2fa4  main -> main\n",
            "Branch 'main' set up to track remote branch 'main' from 'origin'.\n"
          ]
        }
      ]
    },
    {
      "cell_type": "code",
      "source": [
        "!git pull --rebase origin main\n"
      ],
      "metadata": {
        "colab": {
          "base_uri": "https://localhost:8080/"
        },
        "id": "52kulBMui75h",
        "outputId": "e1111c2e-c0fe-43bb-83f3-cff23ff9c160"
      },
      "execution_count": 66,
      "outputs": [
        {
          "output_type": "stream",
          "name": "stdout",
          "text": [
            "remote: Enumerating objects: 5, done.\u001b[K\n",
            "remote: Counting objects:  20% (1/5)\u001b[K\rremote: Counting objects:  40% (2/5)\u001b[K\rremote: Counting objects:  60% (3/5)\u001b[K\rremote: Counting objects:  80% (4/5)\u001b[K\rremote: Counting objects: 100% (5/5)\u001b[K\rremote: Counting objects: 100% (5/5), done.\u001b[K\n",
            "remote: Compressing objects:  33% (1/3)\u001b[K\rremote: Compressing objects:  66% (2/3)\u001b[K\rremote: Compressing objects: 100% (3/3)\u001b[K\rremote: Compressing objects: 100% (3/3), done.\u001b[K\n",
            "Unpacking objects:  33% (1/3)\rremote: Total 3 (delta 2), reused 0 (delta 0), pack-reused 0 (from 0)\u001b[K\n",
            "Unpacking objects:  66% (2/3)\rUnpacking objects: 100% (3/3)\rUnpacking objects: 100% (3/3), 1.15 KiB | 1.15 MiB/s, done.\n",
            "From https://github.com/trykpa1755/kursAI\n",
            " * branch            main       -> FETCH_HEAD\n",
            "   e64c265..dbe7650  main       -> origin/main\n",
            "Rebasing (1/1)\r\r\u001b[KSuccessfully rebased and updated refs/heads/main.\n"
          ]
        }
      ]
    },
    {
      "cell_type": "code",
      "source": [
        "! git pull origin main"
      ],
      "metadata": {
        "colab": {
          "base_uri": "https://localhost:8080/"
        },
        "id": "OlQoCVA5fZlt",
        "outputId": "4dc6159e-90d8-4464-a326-3faad9aa2047"
      },
      "execution_count": null,
      "outputs": [
        {
          "output_type": "stream",
          "name": "stdout",
          "text": [
            "remote: Enumerating objects: 7, done.\u001b[K\n",
            "remote: Counting objects:  14% (1/7)\u001b[K\rremote: Counting objects:  28% (2/7)\u001b[K\rremote: Counting objects:  42% (3/7)\u001b[K\rremote: Counting objects:  57% (4/7)\u001b[K\rremote: Counting objects:  71% (5/7)\u001b[K\rremote: Counting objects:  85% (6/7)\u001b[K\rremote: Counting objects: 100% (7/7)\u001b[K\rremote: Counting objects: 100% (7/7), done.\u001b[K\n",
            "remote: Compressing objects:  20% (1/5)\u001b[K\rremote: Compressing objects:  40% (2/5)\u001b[K\rremote: Compressing objects:  60% (3/5)\u001b[K\rremote: Compressing objects:  80% (4/5)\u001b[K\rremote: Compressing objects: 100% (5/5)\u001b[K\rremote: Compressing objects: 100% (5/5), done.\u001b[K\n",
            "remote: Total 6 (delta 1), reused 0 (delta 0), pack-reused 0 (from 0)\u001b[K\n",
            "Unpacking objects:  16% (1/6)\rUnpacking objects:  33% (2/6)\rUnpacking objects:  50% (3/6)\rUnpacking objects:  66% (4/6)\rUnpacking objects:  83% (5/6)\rUnpacking objects: 100% (6/6)\rUnpacking objects: 100% (6/6), 3.17 KiB | 1.58 MiB/s, done.\n",
            "From https://github.com/trykpa1755/kursAI\n",
            " * branch            main       -> FETCH_HEAD\n",
            "   9327b6c..e64c265  main       -> origin/main\n",
            "Updating 9327b6c..e64c265\n",
            "Fast-forward\n",
            " README.md          |   1 \u001b[32m+\u001b[m\n",
            " wprowadzenie.ipynb | 212 \u001b[32m+++++++++++++++++++++++++++++++++++++++++++++++++++++++++++++++++++++++++\u001b[m\n",
            " 2 files changed, 213 insertions(+)\n",
            " create mode 100644 README.md\n",
            " create mode 100644 wprowadzenie.ipynb\n"
          ]
        }
      ]
    },
    {
      "cell_type": "markdown",
      "source": [
        "### Zmienne"
      ],
      "metadata": {
        "id": "jz23H3QGol64"
      }
    },
    {
      "cell_type": "code",
      "source": [
        "liczba = 6\n",
        "zmiennoprzecinkowa = 8.9\n",
        "napis = \"Tekst\"\n",
        "logiczna = False\n",
        "znak = \"F\"\n",
        "\n",
        "print(f\"liczba: {liczba}, liczba zmiennoprzecinkowa: {zmiennoprzecinkowa}, napis: {napis}, logiczna: {logiczna}\")\n",
        "print(f\"Zmienna liczba jest typu {type(liczba)}\")"
      ],
      "metadata": {
        "id": "JpDC_D8To_4h",
        "outputId": "78af6102-baba-4296-db41-a56d8a1d2cae",
        "colab": {
          "base_uri": "https://localhost:8080/"
        }
      },
      "execution_count": 40,
      "outputs": [
        {
          "output_type": "stream",
          "name": "stdout",
          "text": [
            "liczba: 6, liczba zmiennoprzecinkowa: 8.9, napis: Tekst, logiczna: False\n",
            "Zmienna liczba jest typu <class 'int'>\n"
          ]
        }
      ]
    },
    {
      "cell_type": "code",
      "source": [
        "liczba = \"szesc\"\n",
        "print(f\"Zmienna liczba jest typu {type(liczba)}\")"
      ],
      "metadata": {
        "id": "45NgQZyDpl8u",
        "outputId": "0038850d-c212-4231-c897-a96b3deecca7",
        "colab": {
          "base_uri": "https://localhost:8080/"
        }
      },
      "execution_count": 36,
      "outputs": [
        {
          "output_type": "stream",
          "name": "stdout",
          "text": [
            "Zmienna liczba jest typu <class 'str'>\n"
          ]
        }
      ]
    },
    {
      "cell_type": "markdown",
      "source": [
        "### Listy"
      ],
      "metadata": {
        "id": "68I3jTwDrIJC"
      }
    },
    {
      "cell_type": "code",
      "source": [
        "#tworzymy listy\n",
        "gry = ['fortnite', 'minecraft', 'roblox']\n",
        "lista_mieszana = [1, 'minecraft', 2, 'roblox']\n",
        "#wyświetlamy listy\n",
        "print(gry)\n",
        "print(lista_mieszana)\n",
        "#odwołanie do pierwszego elementu listy\n",
        "print(f\"pierwszyy element listy gry {gry[0]}\")\n",
        "#dodanie elementu do listy\n",
        "gry.append('cs')\n",
        "print(gry)"
      ],
      "metadata": {
        "id": "JAlhoMv8rVKj",
        "outputId": "52464354-7950-4bcc-f195-5ede8900e50d",
        "colab": {
          "base_uri": "https://localhost:8080/"
        }
      },
      "execution_count": 46,
      "outputs": [
        {
          "output_type": "stream",
          "name": "stdout",
          "text": [
            "['fortnite', 'minecraft', 'roblox']\n",
            "[1, 'minecraft', 2, 'roblox']\n",
            "pierwszyy element listy gry fortnite\n",
            "['fortnite', 'minecraft', 'roblox', 'cs']\n"
          ]
        }
      ]
    },
    {
      "cell_type": "markdown",
      "source": [
        "### Pętle"
      ],
      "metadata": {
        "id": "3izExSEzs_ku"
      }
    },
    {
      "cell_type": "code",
      "source": [
        "#pętla while\n",
        "licznik = 0\n",
        "print(\"Pętla while licząca do 5\")\n",
        "while licznik <= 5:\n",
        "  print(licznik)\n",
        "  licznik += 1\n",
        "\n",
        "print(\"Pętla for licząca do 5\")\n",
        "for licznik in range(6):\n",
        "  print(licznik)\n",
        "\n",
        "print(\"Pętla for licząca od 5 do 10\")\n",
        "for licznik in range(5,11):\n",
        "  print(licznik)\n",
        "\n",
        "print(\"Pętla for licząca do 10 tylko liczbami parzystymi\")\n",
        "for licznik in range(0,11,2):\n",
        "  print(licznik)\n",
        "\n",
        "print(\"Pętla przechodząca przez elementy listy gry\")\n",
        "for gra in gry:\n",
        "  print(gra)"
      ],
      "metadata": {
        "id": "CyFbqPi8sRCS",
        "outputId": "ad886863-ffe7-42a5-d000-32f0b48e5a81",
        "colab": {
          "base_uri": "https://localhost:8080/"
        }
      },
      "execution_count": 48,
      "outputs": [
        {
          "output_type": "stream",
          "name": "stdout",
          "text": [
            "Pętla while licząca do 5\n",
            "0\n",
            "1\n",
            "2\n",
            "3\n",
            "4\n",
            "5\n",
            "Pętla for licząca do 5\n",
            "0\n",
            "1\n",
            "2\n",
            "3\n",
            "4\n",
            "5\n",
            "Pętla for licząca od 5 do 10\n",
            "5\n",
            "6\n",
            "7\n",
            "8\n",
            "9\n",
            "10\n",
            "Pętla for licząca do 10 tylko liczbami parzystymi\n",
            "0\n",
            "2\n",
            "4\n",
            "6\n",
            "8\n",
            "10\n",
            "Pętla przechodząca przez elementy listy gry\n",
            "fortnite\n",
            "minecraft\n",
            "roblox\n",
            "cs\n"
          ]
        }
      ]
    },
    {
      "cell_type": "markdown",
      "source": [
        "### Słowniki"
      ],
      "metadata": {
        "id": "meZGR9obzAfH"
      }
    },
    {
      "cell_type": "code",
      "source": [
        "slownik = {\n",
        "'kot' : 'cat',\n",
        "'pies': 'dog',\n",
        "'waz': 'snake'}\n",
        "print(slownik['kot'])\n",
        "\n",
        "print(\"Klucze słownika\")\n",
        "for key in slownik.keys():\n",
        "  print(key)\n",
        "\n",
        "print(\"Wartości słownika\")\n",
        "for value in slownik.values():\n",
        "  print(value)\n",
        "\n",
        "print(\"Krotka\")\n",
        "wspolrzedne = (2,7)\n",
        "print(f'Pierwsza wspolrzedna {wspolrzedne[0]}, druga wspolrzedna{wspolrzedne[1]}')"
      ],
      "metadata": {
        "id": "sFeZ2CgLtDmJ",
        "outputId": "8d1cfe06-3b5f-4436-be80-6ed498e033eb",
        "colab": {
          "base_uri": "https://localhost:8080/"
        }
      },
      "execution_count": 52,
      "outputs": [
        {
          "output_type": "stream",
          "name": "stdout",
          "text": [
            "cat\n",
            "Klucze słownika\n",
            "kot\n",
            "pies\n",
            "waz\n",
            "Wartości słownika\n",
            "cat\n",
            "dog\n",
            "snake\n",
            "Krotka\n",
            "Pierwsza wspolrzedna 2, druga wspolrzedna7\n"
          ]
        }
      ]
    },
    {
      "cell_type": "markdown",
      "source": [
        "### Instrukcje warunkowe"
      ],
      "metadata": {
        "id": "RNjNOsnD0KMX"
      }
    },
    {
      "cell_type": "code",
      "source": [
        "#Inteligenty grzejnik\n",
        "temperatura = float(input(\"Podaj temperaturę: \"))\n",
        "if temperatura < 20:\n",
        "  print(\"Podwyższam temperaturę\")\n",
        "elif temperatura >25:\n",
        "  print(\"Obniżam temperaturę\")\n",
        "else:\n",
        "  print(\"Temperatura w normie\")"
      ],
      "metadata": {
        "id": "IrHyQOBd0MqH",
        "outputId": "874ce282-d2aa-4b02-ee35-5f841a6c6657",
        "colab": {
          "base_uri": "https://localhost:8080/"
        }
      },
      "execution_count": 53,
      "outputs": [
        {
          "output_type": "stream",
          "name": "stdout",
          "text": [
            "Podaj temperaturę: 15\n",
            "Podwyższam temperaturę\n"
          ]
        }
      ]
    },
    {
      "cell_type": "markdown",
      "source": [
        "### Funkcje\n"
      ],
      "metadata": {
        "id": "2HNBuroC0tP7"
      }
    },
    {
      "cell_type": "code",
      "source": [
        "#definicja funkcji\n",
        "def dodawanie(a, b):\n",
        "  return a + b\n",
        "print(dodawanie (2,3))\n",
        "\n",
        "#definicja funkcji z argumentem domyslnym\n",
        "def dodawanie(a, b = 5):\n",
        "  return a + b\n",
        "print(dodawanie (2,3))\n",
        "print(dodawanie (2))\n",
        "\n",
        "#wywołanie funkcji z argumentem nazwanym\n",
        "def dodawanie(a, b):\n",
        "  return 2*a + b\n",
        "print(dodawanie (a=2, b = 3))\n",
        "print(dodawanie (b = 2, a = 3))"
      ],
      "metadata": {
        "id": "xQqgXuTU0xSl",
        "outputId": "b02d1b3d-18b5-4b2b-f300-cda84c258407",
        "colab": {
          "base_uri": "https://localhost:8080/"
        }
      },
      "execution_count": 54,
      "outputs": [
        {
          "output_type": "stream",
          "name": "stdout",
          "text": [
            "5\n",
            "5\n",
            "7\n",
            "7\n",
            "8\n"
          ]
        }
      ]
    },
    {
      "cell_type": "markdown",
      "source": [
        "### Obsługa plików"
      ],
      "metadata": {
        "id": "HKsZKIlc1h1p"
      }
    },
    {
      "cell_type": "code",
      "source": [
        "#odczyt z pliku\n",
        "with open('dane.txt','r') as file:\n",
        "  for line in file:\n",
        "    print(line)\n",
        "\n",
        "\n",
        "#dodawanie do pliku\n",
        "  with open('dane.txt','a') as file:\n",
        "    file.write('\\nLUA')\n",
        "\n",
        "#zapis do pliku (zapisanie do nowego pliku)\n",
        "  with open('dane2.txt','w') as file:\n",
        "    file.write('Lubie placki')"
      ],
      "metadata": {
        "id": "e2hDpreg1iKw",
        "outputId": "bdaa10ac-b90a-40e9-c8ff-f3ae472dfb5a",
        "colab": {
          "base_uri": "https://localhost:8080/"
        }
      },
      "execution_count": 60,
      "outputs": [
        {
          "output_type": "stream",
          "name": "stdout",
          "text": [
            "janek\n",
            "\n",
            "franek\n",
            "\n",
            "amelka\n",
            "\n",
            "LUA\n",
            "\n",
            "LUA\n",
            "\n",
            "LUA\n",
            "\n",
            "LUA\n"
          ]
        }
      ]
    },
    {
      "cell_type": "markdown",
      "source": [
        "### Obsługa wyjątków\n"
      ],
      "metadata": {
        "id": "gR9qCYTe2KbB"
      }
    },
    {
      "cell_type": "code",
      "source": [
        "try:\n",
        "  dzielna = float(input(\"Podaj dzielną: \"))\n",
        "  dzielnik = float(input(\"Podaj dzielnik: \"))\n",
        "  suma = dzielna / dzielnik\n",
        "\n",
        "except Exception as e:\n",
        "  print(f\"Blad o tresci {e}\")\n",
        "\n",
        "else:\n",
        "  print(f\"{dzielna}/{dzielnik} to {suma}\")\n",
        "\n",
        "finally:\n",
        "  print(\"Koniec programu\")"
      ],
      "metadata": {
        "id": "2gJHExD82NZc",
        "outputId": "189aa3ef-fbdf-47f1-93ec-c3e63329ccb4",
        "colab": {
          "base_uri": "https://localhost:8080/"
        }
      },
      "execution_count": 61,
      "outputs": [
        {
          "output_type": "stream",
          "name": "stdout",
          "text": [
            "Podaj dzielną: 15\n",
            "Podaj dzielnik: 6\n",
            "15.0/6.0 to 2.5\n",
            "Koniec programu\n"
          ]
        }
      ]
    }
  ]
}